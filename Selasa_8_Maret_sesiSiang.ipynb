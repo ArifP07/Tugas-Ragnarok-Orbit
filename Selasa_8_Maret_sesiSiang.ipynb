{
 "cells": [
  {
   "cell_type": "code",
   "execution_count": 29,
   "id": "14bc7f0e",
   "metadata": {},
   "outputs": [],
   "source": [
    "import numpy as np"
   ]
  },
  {
   "cell_type": "code",
   "execution_count": 30,
   "id": "fe33814f",
   "metadata": {},
   "outputs": [],
   "source": [
    "A = np.array([[1, 2], [7,8]])\n",
    "B = np.array([[3, 5], [1,6]])"
   ]
  },
  {
   "cell_type": "markdown",
   "id": "80180f56",
   "metadata": {},
   "source": [
    "### Hitunglah:\n",
    "\n",
    "- 2*A\n",
    "- 2+A\n",
    "- A+B\n",
    "- A-B\n",
    "- determinan A\n",
    "- invers dari B, simpan jadi matriks D\n",
    "- transpose D\n",
    "- nilai eigen dan vektor eigen dari A dan B"
   ]
  },
  {
   "cell_type": "code",
   "execution_count": 31,
   "id": "95fb23f3",
   "metadata": {},
   "outputs": [
    {
     "name": "stdout",
     "output_type": "stream",
     "text": [
      "[[ 2  4]\n",
      " [14 16]]\n",
      "[[ 3  4]\n",
      " [ 9 10]]\n",
      "[[ 4  7]\n",
      " [ 8 14]]\n",
      "[[-2 -3]\n",
      " [ 6  2]]\n",
      "-6.0\n"
     ]
    }
   ],
   "source": [
    "#Ketik Kode disini\n",
    "\n",
    "print(2*A)\n",
    "print(2+A)\n",
    "print(A+B)\n",
    "print(A-B)\n",
    "print(np.linalg.det(A))"
   ]
  },
  {
   "cell_type": "code",
   "execution_count": 32,
   "id": "aea2b765",
   "metadata": {},
   "outputs": [
    {
     "name": "stdout",
     "output_type": "stream",
     "text": [
      "[[ 0.46153846 -0.38461538]\n",
      " [-0.07692308  0.23076923]]\n"
     ]
    }
   ],
   "source": [
    "print(np.linalg.inv(B))"
   ]
  },
  {
   "cell_type": "code",
   "execution_count": 33,
   "id": "95ad81d1",
   "metadata": {},
   "outputs": [],
   "source": [
    "D = np.linalg.inv(B)"
   ]
  },
  {
   "cell_type": "code",
   "execution_count": 34,
   "id": "a10e5980",
   "metadata": {},
   "outputs": [
    {
     "name": "stdout",
     "output_type": "stream",
     "text": [
      "[[ 0.46153846 -0.38461538]\n",
      " [-0.07692308  0.23076923]]\n"
     ]
    }
   ],
   "source": [
    "print(D)"
   ]
  },
  {
   "cell_type": "code",
   "execution_count": 35,
   "id": "a0365c29",
   "metadata": {},
   "outputs": [],
   "source": [
    "D_T = D.T"
   ]
  },
  {
   "cell_type": "code",
   "execution_count": 36,
   "id": "59e18b42",
   "metadata": {},
   "outputs": [
    {
     "data": {
      "text/plain": [
       "(array([[ 0.46153846, -0.38461538],\n",
       "        [-0.07692308,  0.23076923]]),\n",
       " array([[ 0.46153846, -0.07692308],\n",
       "        [-0.38461538,  0.23076923]]))"
      ]
     },
     "execution_count": 36,
     "metadata": {},
     "output_type": "execute_result"
    }
   ],
   "source": [
    "D, D_T"
   ]
  },
  {
   "cell_type": "code",
   "execution_count": 37,
   "id": "5a6eab15",
   "metadata": {},
   "outputs": [
    {
     "name": "stdout",
     "output_type": "stream",
     "text": [
      "(array([-0.62347538,  9.62347538]), array([[-0.77640358, -0.22592838],\n",
      "       [ 0.63023605, -0.97414391]]))\n"
     ]
    }
   ],
   "source": [
    "print(np.linalg.eig(A))"
   ]
  },
  {
   "cell_type": "code",
   "execution_count": 38,
   "id": "a32f85e9",
   "metadata": {},
   "outputs": [
    {
     "name": "stdout",
     "output_type": "stream",
     "text": [
      "[-0.62347538  9.62347538]\n"
     ]
    }
   ],
   "source": [
    "print(np.linalg.eig(A)[0])"
   ]
  },
  {
   "cell_type": "code",
   "execution_count": 39,
   "id": "3a8aeb32",
   "metadata": {},
   "outputs": [
    {
     "name": "stdout",
     "output_type": "stream",
     "text": [
      "[[-0.77640358 -0.22592838]\n",
      " [ 0.63023605 -0.97414391]]\n"
     ]
    }
   ],
   "source": [
    "print(np.linalg.eig(A)[1])"
   ]
  },
  {
   "cell_type": "code",
   "execution_count": 40,
   "id": "2ad98a3a",
   "metadata": {},
   "outputs": [
    {
     "name": "stdout",
     "output_type": "stream",
     "text": [
      "(array([1.8074176, 7.1925824]), array([[-0.97271381, -0.76626443],\n",
      "       [ 0.23200828, -0.64252535]]))\n"
     ]
    }
   ],
   "source": [
    "print(np.linalg.eig(B))"
   ]
  },
  {
   "cell_type": "code",
   "execution_count": 41,
   "id": "5ec5b1c7",
   "metadata": {},
   "outputs": [
    {
     "name": "stdout",
     "output_type": "stream",
     "text": [
      "[1.8074176 7.1925824]\n"
     ]
    }
   ],
   "source": [
    "print(np.linalg.eig(B)[0])"
   ]
  },
  {
   "cell_type": "code",
   "execution_count": 42,
   "id": "e2075c97",
   "metadata": {},
   "outputs": [
    {
     "name": "stdout",
     "output_type": "stream",
     "text": [
      "[[-0.97271381 -0.76626443]\n",
      " [ 0.23200828 -0.64252535]]\n"
     ]
    }
   ],
   "source": [
    "print(np.linalg.eig(B)[1])"
   ]
  },
  {
   "cell_type": "markdown",
   "id": "d3a8f20d",
   "metadata": {},
   "source": [
    "Apa perbedaan dari B*D (perkalian antar entry di B dan D) dan BD (perkalian matriks B dan D)?"
   ]
  },
  {
   "cell_type": "code",
   "execution_count": 43,
   "id": "e488497e",
   "metadata": {},
   "outputs": [
    {
     "name": "stdout",
     "output_type": "stream",
     "text": [
      "[[ 1.38461538 -1.92307692]\n",
      " [-0.07692308  1.38461538]]\n"
     ]
    }
   ],
   "source": [
    "#Tunjukkan bedanya di kodingan di bawah ini\n",
    "\n",
    "print(B*D)"
   ]
  },
  {
   "cell_type": "code",
   "execution_count": 46,
   "id": "023479c1",
   "metadata": {},
   "outputs": [
    {
     "data": {
      "text/plain": [
       "(array([[3, 5],\n",
       "        [1, 6]]),\n",
       " array([[ 0.46153846, -0.38461538],\n",
       "        [-0.07692308,  0.23076923]]))"
      ]
     },
     "execution_count": 46,
     "metadata": {},
     "output_type": "execute_result"
    }
   ],
   "source": [
    "B, D"
   ]
  },
  {
   "cell_type": "code",
   "execution_count": 48,
   "id": "9c67f616",
   "metadata": {},
   "outputs": [
    {
     "name": "stdout",
     "output_type": "stream",
     "text": [
      "[[ 1.00000000e+00  0.00000000e+00]\n",
      " [-5.55111512e-17  1.00000000e+00]]\n"
     ]
    }
   ],
   "source": [
    "print(np.matmul(B, D))"
   ]
  },
  {
   "cell_type": "markdown",
   "id": "b16cf0cf",
   "metadata": {},
   "source": [
    "### output jawaban:\n",
    "\n",
    "perkalian entry = [[ 1.38461538, -1.92307692], [-0.07692308, 1.38461538]]\n",
    "\n",
    "perkalian matriks = [[ 1.00000000e+00, -1.11022302e-16], [ 1.11022302e-16, 1.00000000e+00]]"
   ]
  },
  {
   "cell_type": "code",
   "execution_count": 28,
   "id": "595f6435",
   "metadata": {},
   "outputs": [
    {
     "data": {
      "text/plain": [
       "'1.20.3'"
      ]
     },
     "execution_count": 28,
     "metadata": {},
     "output_type": "execute_result"
    }
   ],
   "source": [
    "np.__version__"
   ]
  },
  {
   "cell_type": "code",
   "execution_count": 24,
   "id": "aac57bba",
   "metadata": {},
   "outputs": [
    {
     "name": "stdout",
     "output_type": "stream",
     "text": [
      "Requirement already satisfied: numpy in c:\\users\\user\\anaconda3\\lib\\site-packages (1.20.3)Note: you may need to restart the kernel to use updated packages.\n"
     ]
    },
    {
     "name": "stderr",
     "output_type": "stream",
     "text": [
      "ERROR: Could not install packages due to an OSError: [WinError 5] Access is denied: 'C:\\\\Users\\\\USER\\\\anaconda3\\\\Lib\\\\site-packages\\\\~umpy\\\\core\\\\_multiarray_tests.cp39-win_amd64.pyd'\n",
      "Consider using the `--user` option or check the permissions.\n",
      "\n"
     ]
    },
    {
     "name": "stdout",
     "output_type": "stream",
     "text": [
      "\n",
      "Collecting numpy\n",
      "  Downloading numpy-1.22.3-cp39-cp39-win_amd64.whl (14.7 MB)\n",
      "Installing collected packages: numpy\n",
      "  Attempting uninstall: numpy\n",
      "    Found existing installation: numpy 1.20.3\n",
      "    Uninstalling numpy-1.20.3:\n",
      "      Successfully uninstalled numpy-1.20.3\n"
     ]
    }
   ],
   "source": [
    "pip install --upgrade numpy"
   ]
  },
  {
   "cell_type": "code",
   "execution_count": null,
   "id": "c9e26d1b",
   "metadata": {},
   "outputs": [],
   "source": []
  }
 ],
 "metadata": {
  "kernelspec": {
   "display_name": "Python 3 (ipykernel)",
   "language": "python",
   "name": "python3"
  },
  "language_info": {
   "codemirror_mode": {
    "name": "ipython",
    "version": 3
   },
   "file_extension": ".py",
   "mimetype": "text/x-python",
   "name": "python",
   "nbconvert_exporter": "python",
   "pygments_lexer": "ipython3",
   "version": "3.9.7"
  }
 },
 "nbformat": 4,
 "nbformat_minor": 5
}
