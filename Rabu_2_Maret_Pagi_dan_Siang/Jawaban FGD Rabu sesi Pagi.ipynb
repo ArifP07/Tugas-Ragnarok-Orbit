{
 "cells": [
  {
   "cell_type": "code",
   "execution_count": null,
   "id": "b0032fa0",
   "metadata": {},
   "outputs": [],
   "source": [
    "# 1. a = False, b = True, c = False\n",
    "\n",
    "jawaban \n",
    "1. (b and c) = False\n",
    "2. b or c = True\n",
    "3. not a and b = True\n",
    "4. (a and b) or not c = True\n",
    "5. not b and not (a or c) = False"
   ]
  },
  {
   "cell_type": "code",
   "execution_count": null,
   "id": "84095035",
   "metadata": {},
   "outputs": [],
   "source": [
    "# 2. print('Hello!')\n",
    "something == input('Enter something: ')\n",
    "print('you entered: ', something)"
   ]
  },
  {
   "cell_type": "code",
   "execution_count": null,
   "id": "a85ef89f",
   "metadata": {},
   "outputs": [],
   "source": [
    "# 3. print(\"Hello!\")\n",
    "something = input(\"Enter something: \")\n",
    "\n",
    "if something == 'Hello':\n",
    "    print(\"Hello for you too!\")\n",
    "    \n",
    "elif something == 'hi':\n",
    "    print(\"Hi there!\")\n",
    "    \n",
    "else:\n",
    "    print(\"I don't know what\", something, \"means.\")"
   ]
  },
  {
   "cell_type": "code",
   "execution_count": null,
   "id": "908ed298",
   "metadata": {},
   "outputs": [],
   "source": [
    "# 4. print(\"helo hai \" *100)"
   ]
  },
  {
   "cell_type": "code",
   "execution_count": null,
   "id": "7ee509f0",
   "metadata": {},
   "outputs": [],
   "source": [
    "# 5. membuat game batu, gunting, kertas.\n",
    "\n",
    "membuat tabel kebenaran\n",
    "\n",
    "pemain1   pemain2    pemenang  \n",
    "gunting   batu       pemain2\n",
    "gunting   kertas     pemain1\n",
    "kertas    gunting    pemain2\n",
    "kertas    batu       pemain1\n",
    "batu      kertas     pemain2\n",
    "batu      gunting    pemain1\n",
    "sama      sama       seri\n",
    "\n",
    "player1 membuat pilihan\n",
    "player2 membuat pilihan\n",
    "\n",
    "jika player1 gunting dan player2 batu maka pemain2 menang\n",
    "jika player1 gunting dan player2 kertas maka pemain1 menang\n",
    "jika player1 kertas dan player2 gunting maka pemain2 menang\n",
    "jika player1 kertas dan player2 batu maka pemain1 menang\n",
    "jika player1 batu dan player2 kertas maka pemain2 menang\n",
    "jika player1 batu dan player2 gunting maka pemain1 menang\n",
    "jika player1 memilih sama dengan player2 maka seri \n",
    "\n",
    "\n",
    "player1 batu\n",
    "player2 kertas\n",
    "pemenang pemain2"
   ]
  },
  {
   "cell_type": "code",
   "execution_count": null,
   "id": "d3018ec0",
   "metadata": {},
   "outputs": [],
   "source": [
    "# 6. \n",
    "menginputkan angka 1 sampai 100 \n",
    "ketika menginputkan \"Berhenti\" maka program akan berhenti."
   ]
  },
  {
   "cell_type": "code",
   "execution_count": null,
   "id": "5d1ba292",
   "metadata": {},
   "outputs": [],
   "source": [
    "# 7. \n",
    "\n",
    "menu makanan\n",
    "1. Lemper Rp 1250\n",
    "2. Bakwan Rp 1000\n",
    "3. Risol Rp 1500\n",
    "\n",
    "inputuser: 3\n",
    "kamu memesan Risol dengan harga Rp 1500\n",
    "\n",
    "inputuser: cukup\n",
    "Terima kasih Sudah Membeli."
   ]
  },
  {
   "cell_type": "code",
   "execution_count": null,
   "id": "fda80df9",
   "metadata": {},
   "outputs": [],
   "source": [
    "# 8. \n",
    "\n",
    "menu makanan\n",
    "1. Lemper Rp 1250\n",
    "2. Bakwan Rp 1000\n",
    "3. Risol Rp 1500\n",
    "\n",
    "inputmenu: 2\n",
    "inputjumlah: 10\n",
    "inputtotalharga: Rp 10000\n",
    "    \n",
    "inputpesanlagi?: cukup\n",
    "Terima kasih Sudah Membeli."
   ]
  }
 ],
 "metadata": {
  "kernelspec": {
   "display_name": "Python 3 (ipykernel)",
   "language": "python",
   "name": "python3"
  },
  "language_info": {
   "codemirror_mode": {
    "name": "ipython",
    "version": 3
   },
   "file_extension": ".py",
   "mimetype": "text/x-python",
   "name": "python",
   "nbconvert_exporter": "python",
   "pygments_lexer": "ipython3",
   "version": "3.9.7"
  }
 },
 "nbformat": 4,
 "nbformat_minor": 5
}
