{
 "cells": [
  {
   "cell_type": "markdown",
   "id": "9eda65b1",
   "metadata": {},
   "source": [
    "### Method"
   ]
  },
  {
   "cell_type": "code",
   "execution_count": 1,
   "id": "5567bca3",
   "metadata": {},
   "outputs": [
    {
     "name": "stdout",
     "output_type": "stream",
     "text": [
      "mooo\n"
     ]
    }
   ],
   "source": [
    "class Sapi(object):\n",
    "    #method\n",
    "    def mooo(self):\n",
    "        print(\"mooo\")\n",
    "\n",
    "# Memanggil method\n",
    "sapi1 = Sapi()\n",
    "sapi1.mooo()"
   ]
  },
  {
   "cell_type": "markdown",
   "id": "99e7dfa1",
   "metadata": {},
   "source": [
    "### Encapsulation"
   ]
  },
  {
   "cell_type": "code",
   "execution_count": 2,
   "id": "076edf00",
   "metadata": {},
   "outputs": [
    {
     "name": "stdout",
     "output_type": "stream",
     "text": [
      "nama: Gunawan, usia: 1, warna: putih, jenis: Brahman\n",
      "mmoooo... \n"
     ]
    }
   ],
   "source": [
    "nama = \"Gunawan\"\n",
    "usia = 1\n",
    "warna = \"putih\"\n",
    "jenis = \"Brahman\"\n",
    "\n",
    "def mooo():\n",
    "  print(\"mmoooo... \")\n",
    "\n",
    "def info_Sapi(nama, usia, warna, jenis):\n",
    "  print(f\"nama: {nama}, usia: {usia}, warna: {warna}, jenis: {jenis}\") \n",
    "\n",
    "info_Sapi(nama, usia, warna, jenis)\n",
    "mooo()"
   ]
  },
  {
   "cell_type": "code",
   "execution_count": 4,
   "id": "bb847e2f",
   "metadata": {},
   "outputs": [
    {
     "name": "stdout",
     "output_type": "stream",
     "text": [
      "nama: Gunawan, usia: 1, warna: putih, jenis: Brahman\n",
      "mmoooo...  Gunawan\n"
     ]
    }
   ],
   "source": [
    "class Sapi(object):  \n",
    "    nama_Sapi = \"\"\n",
    "    def __init__(self, input_nama, input_usia, input_warna, input_jenis):\n",
    "        self.nama = input_nama\n",
    "        self.usia = input_usia\n",
    "        self.warna = input_warna\n",
    "        self.jenis = input_jenis\n",
    "        Sapi.nama_Sapi = input_nama\n",
    "\n",
    "    def mooo(self):\n",
    "        print(\"mmoooo... \", self.nama)\n",
    "\n",
    "    def info(self):\n",
    "        print(f\"nama: {self.nama}, usia: {self.usia}, warna: {self.warna}, jenis: {self.jenis}\")\n",
    "\n",
    "\n",
    "Sapi1 = Sapi(\"Gunawan\", 1, \"putih\", \"Brahman\")\n",
    "\n",
    "Sapi1.info()\n",
    "Sapi1.mooo()"
   ]
  },
  {
   "cell_type": "code",
   "execution_count": 5,
   "id": "28d83cae",
   "metadata": {},
   "outputs": [
    {
     "data": {
      "text/plain": [
       "'Gunawan'"
      ]
     },
     "execution_count": 5,
     "metadata": {},
     "output_type": "execute_result"
    }
   ],
   "source": [
    "Sapi1.nama"
   ]
  },
  {
   "cell_type": "markdown",
   "id": "b2df79f2",
   "metadata": {},
   "source": [
    "### Inheritence"
   ]
  },
  {
   "cell_type": "code",
   "execution_count": 49,
   "id": "549025ca",
   "metadata": {},
   "outputs": [
    {
     "name": "stdout",
     "output_type": "stream",
     "text": [
      "ddrrr... ddrrr... \n",
      "ddrrr... ddrrr... \n",
      "nama: Gunawan, usia: 1, jenis: Herbivora, mamalia: True\n"
     ]
    }
   ],
   "source": [
    "class Binatang(object):\n",
    "    def __init__(self, nama, usia, jenis, mamalia):\n",
    "        self.nama = nama\n",
    "        self.usia = usia\n",
    "        self.jenis = jenis\n",
    "        self.mamalia = mamalia\n",
    "\n",
    "    def __tidur(self, durasi):\n",
    "        for x in range(durasi):\n",
    "            print(\"ddrrr... ddrrr... \")\n",
    "\n",
    "    def info(self):\n",
    "        self.__tidur(2)\n",
    "        print(f\"nama: {self.nama}, usia: {self.usia}, jenis: {self.jenis}, mamalia: {self.mamalia}\")\n",
    "\n",
    "hewan1 = Binatang(\"Gunawan\", 1, \"Herbivora\", True)\n",
    "\n",
    "hewan1.info()"
   ]
  },
  {
   "cell_type": "code",
   "execution_count": 54,
   "id": "63b0e1a6",
   "metadata": {},
   "outputs": [
    {
     "name": "stdout",
     "output_type": "stream",
     "text": [
      "ddrrr... ddrrr... \n",
      "ddrrr... ddrrr... \n",
      "nama: Tosa, usia: 1, jenis: Herbivora, mamalia: True\n",
      "warna: Coklat Muda, jenis Sapi: Limosin\n",
      "mooo\n"
     ]
    }
   ],
   "source": [
    "class Sapi(Binatang):\n",
    "    def __init__(self,  nama, usia, jenis, mamalia, warna, jenis_Sapi):\n",
    "        super().__init__(nama, usia, jenis, mamalia)\n",
    "        self.warna = warna\n",
    "        self.jenis_Sapi = jenis_Sapi\n",
    "\n",
    "    def mooo(self):\n",
    "        super()._tidur(2)\n",
    "        print(\"mmoooo\")\n",
    "\n",
    "    def info_Sapi(self):\n",
    "        super().info()\n",
    "        print(f\"warna: {self.warna}, jenis Sapi: {self.jenis_Sapi}\")\n",
    "\n",
    "cow1 = Sapi(\"Tosa\", 1, \"Herbivora\", True, \"Coklat Muda\", \"Limosin\")\n",
    "\n",
    "# sapi1.info()\n",
    "# sapi1.tidur(5)\n",
    "cow1.info_Sapi()\n",
    "sapi1.mooo()\n",
    "# hewan1.mooo()"
   ]
  },
  {
   "cell_type": "markdown",
   "id": "3157a0d4",
   "metadata": {},
   "source": [
    "### Abstaction"
   ]
  },
  {
   "cell_type": "code",
   "execution_count": 2,
   "id": "0c07099d",
   "metadata": {},
   "outputs": [],
   "source": [
    "from abc import abstractmethod, ABC"
   ]
  },
  {
   "cell_type": "code",
   "execution_count": 3,
   "id": "70d954ca",
   "metadata": {},
   "outputs": [],
   "source": [
    "class Kendaraan(ABC):\n",
    "    \n",
    "    @abstractmethod\n",
    "    def suara(self):\n",
    "        pass\n",
    "    \n",
    "class Pesawat(Kendaraan):\n",
    "    def suara(self):\n",
    "        print(\"wessstt\")\n",
    "        \n",
    "\n",
    "class Bus(Kendaraan):\n",
    "    def suara(self):\n",
    "        print(\"mbemmm\")\n",
    "       \n",
    "        \n",
    "class Kereta(Kendaraan):\n",
    "    def suara(self):\n",
    "        print(\"juggjugg\")"
   ]
  },
  {
   "cell_type": "code",
   "execution_count": 4,
   "id": "e38eb262",
   "metadata": {},
   "outputs": [
    {
     "name": "stdout",
     "output_type": "stream",
     "text": [
      "wessstt\n",
      "mbemmm\n",
      "juggjugg\n"
     ]
    }
   ],
   "source": [
    "pesawat1 = Pesawat()\n",
    "bus1    = Bus()\n",
    "kereta1 = Kereta()\n",
    "\n",
    "pesawat1.suara()\n",
    "bus1.suara()\n",
    "kereta1.suara()"
   ]
  },
  {
   "cell_type": "markdown",
   "id": "ddf5eecd",
   "metadata": {},
   "source": [
    "### Polymorphism"
   ]
  },
  {
   "cell_type": "code",
   "execution_count": 17,
   "id": "e38c05db",
   "metadata": {},
   "outputs": [
    {
     "name": "stdout",
     "output_type": "stream",
     "text": [
      "nama: Martin, usia: 4, jenis: Karnivora, mamalia: False\n",
      "warna: Hitam, jenis ular: King Cobra, jenis habitat: Hutan Lembab\n",
      "dddrrrr.... dddrrrr.... \n",
      "dddrrrr.... dddrrrr.... \n",
      "dddrrrr.... dddrrrr.... \n",
      "nama: Nana, usia: 3, jenis: herbivora, mamalia: True\n",
      "warna: Putih Hitam\n",
      "dddrrrr.... dddrrrr.... \n",
      "dddrrrr.... dddrrrr.... \n",
      "dddrrrr.... dddrrrr.... \n",
      "dddrrrr.... dddrrrr.... \n",
      "dddrrrr.... dddrrrr.... \n",
      "dddrrrr.... dddrrrr.... \n",
      "kenyaang\n"
     ]
    }
   ],
   "source": [
    "class Binatang(object):\n",
    "  def __init__(self, nama, usia, jenis, mamalia):\n",
    "    self.nama = nama\n",
    "    self.usia = usia\n",
    "    self.jenis = jenis\n",
    "    self.mamalia = mamalia\n",
    "\n",
    "  def tidur(self, durasi):\n",
    "    for x in range(durasi):\n",
    "      print(\"dddrrrr.... dddrrrr.... \")\n",
    "\n",
    "  def info(self):\n",
    "    print(f\"nama: {self.nama}, usia: {self.usia}, jenis: {self.jenis}, mamalia: {self.mamalia}\")\n",
    "\n",
    "\n",
    "class Ular(Binatang):\n",
    "  def __init__(self,  nama, usia, jenis, mamalia, warna, jenis_habitat, jenis_ular):\n",
    "    super().__init__(nama, usia, jenis, mamalia)\n",
    "    self.warna = warna\n",
    "    self.jenis_habitat = jenis_habitat\n",
    "    self.jenis_ular = jenis_ular\n",
    "  \n",
    "  def melata(self, durasi):\n",
    "    print(\"ssttt... ssttt... \")\n",
    "\n",
    "  def info_Ular(self):\n",
    "    print(f\"warna: {self.warna}, jenis ular: {self.jenis_ular}, jenis habitat: {self.jenis_habitat}\")\n",
    "\n",
    "class Monyet(Binatang):\n",
    "  def __init__(self, nama, usia, jenis, mamalia, warna):\n",
    "    super().__init__(nama, usia, jenis, mamalia)\n",
    "    self.warna = warna\n",
    "    \n",
    "  def info_Monyet(self):\n",
    "    print(f\"warna: {self.warna}\")\n",
    "  \n",
    "  def makan_pisang(self, buah):\n",
    "    if buah >=7 :\n",
    "      print(\"kenyaang\")\n",
    "    else:\n",
    "      print(\"lapaar\")\n",
    "    \n",
    "\n",
    "snake1 = Ular(\"Martin\", 4, \"Karnivora\", False, \"Hitam\", \"Hutan Lembab\", \"King Cobra\")\n",
    "\n",
    "snake1.info()\n",
    "snake1.info_Ular()\n",
    "snake1.tidur(3)\n",
    "\n",
    "\n",
    "monyet1 = Monyet(\"Nana\", 3, \"herbivora\", True, \"Putih Hitam\")\n",
    "\n",
    "monyet1.info()\n",
    "monyet1.info_Monyet()\n",
    "monyet1.tidur(6)\n",
    "monyet1.makan_pisang(8)"
   ]
  },
  {
   "cell_type": "code",
   "execution_count": null,
   "id": "6d6381fb",
   "metadata": {},
   "outputs": [],
   "source": [
    " import coba_oop as co"
   ]
  },
  {
   "cell_type": "code",
   "execution_count": 2,
   "id": "c0ea425f",
   "metadata": {},
   "outputs": [
    {
     "name": "stdout",
     "output_type": "stream",
     "text": [
      "Halloo\n"
     ]
    }
   ],
   "source": [
    "co.hallo()"
   ]
  },
  {
   "cell_type": "code",
   "execution_count": 12,
   "id": "77f1b271",
   "metadata": {},
   "outputs": [],
   "source": [
    "Sapi1 = co.Sapi(\"Gunawan\", 1, \"putih\", \"Brahman\")"
   ]
  },
  {
   "cell_type": "code",
   "execution_count": null,
   "id": "ef076522",
   "metadata": {},
   "outputs": [],
   "source": []
  }
 ],
 "metadata": {
  "kernelspec": {
   "display_name": "Python 3 (ipykernel)",
   "language": "python",
   "name": "python3"
  },
  "language_info": {
   "codemirror_mode": {
    "name": "ipython",
    "version": 3
   },
   "file_extension": ".py",
   "mimetype": "text/x-python",
   "name": "python",
   "nbconvert_exporter": "python",
   "pygments_lexer": "ipython3",
   "version": "3.9.7"
  }
 },
 "nbformat": 4,
 "nbformat_minor": 5
}
