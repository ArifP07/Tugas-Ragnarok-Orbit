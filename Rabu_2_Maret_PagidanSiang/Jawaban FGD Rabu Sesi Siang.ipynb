{
 "cells": [
  {
   "cell_type": "markdown",
   "id": "c967471f",
   "metadata": {},
   "source": [
    "### 1"
   ]
  },
  {
   "cell_type": "code",
   "execution_count": 6,
   "id": "8c22a786",
   "metadata": {},
   "outputs": [
    {
     "name": "stdout",
     "output_type": "stream",
     "text": [
      "False\n"
     ]
    }
   ],
   "source": [
    "m = 2\n",
    "n = 3\n",
    "\n",
    "def get_even(c):\n",
    "    if(c%3==0):\n",
    "        return True\n",
    "    else:\n",
    "        return False\n",
    "    \n",
    "list_c = [2]\n",
    "hasil_map = map(get_even, list_c)\n",
    "\n",
    "for i in hasil_map:\n",
    "    print(i)"
   ]
  },
  {
   "cell_type": "code",
   "execution_count": 7,
   "id": "fc7b4a32",
   "metadata": {},
   "outputs": [
    {
     "name": "stdout",
     "output_type": "stream",
     "text": [
      "True\n"
     ]
    }
   ],
   "source": [
    "m = 4\n",
    "n = 2\n",
    "\n",
    "def get_even(c):\n",
    "    if(c%2==0):\n",
    "        return True\n",
    "    else:\n",
    "        return False\n",
    "    \n",
    "list_c = [4]\n",
    "hasil_map = map(get_even, list_c)\n",
    "\n",
    "for i in hasil_map:\n",
    "    print(i)"
   ]
  },
  {
   "cell_type": "markdown",
   "id": "e28ec396",
   "metadata": {},
   "source": [
    "### 2"
   ]
  },
  {
   "cell_type": "code",
   "execution_count": 8,
   "id": "bf43741f",
   "metadata": {},
   "outputs": [],
   "source": [
    "def menu():\n",
    "    print(\"Daftar Menu : \")\n",
    "    print(\"1. Soup and salad\")\n",
    "    print(\"2. Pasta with meat sauce\")\n",
    "    print(\"3. Chef's specail\")\n",
    "    menu =str(input(\"Masukan Pilihan Menu: \"))\n",
    "    \n",
    "    if menu == \"1\":\n",
    "        print(\"Soup and salad segera datang\")\n",
    "    elif menu == \"2\":\n",
    "        print(\"Pasta with meat sauce segera datang\")\n",
    "    elif menu ==\"3\":\n",
    "        print(\"Chef's specaial segera datang\")\n",
    "    else:\n",
    "        print(\"Pilihan tidak ada!\")\n",
    "        "
   ]
  },
  {
   "cell_type": "code",
   "execution_count": 9,
   "id": "981e4b8d",
   "metadata": {},
   "outputs": [
    {
     "name": "stdout",
     "output_type": "stream",
     "text": [
      "Daftar Menu : \n",
      "1. Soup and salad\n",
      "2. Pasta with meat sauce\n",
      "3. Chef's specail\n",
      "Masukan Pilihan Menu: 2\n",
      "Pasta with meat sauce segera datang\n"
     ]
    }
   ],
   "source": [
    "menu()"
   ]
  },
  {
   "cell_type": "code",
   "execution_count": 10,
   "id": "72198f72",
   "metadata": {},
   "outputs": [
    {
     "name": "stdout",
     "output_type": "stream",
     "text": [
      "Daftar Menu : \n",
      "1. Soup and salad\n",
      "2. Pasta with meat sauce\n",
      "3. Chef's specail\n",
      "Masukan Pilihan Menu: 5\n",
      "Pilihan tidak ada!\n"
     ]
    }
   ],
   "source": [
    "menu()"
   ]
  },
  {
   "cell_type": "markdown",
   "id": "ca8cd23a",
   "metadata": {},
   "source": [
    "### 3"
   ]
  },
  {
   "cell_type": "code",
   "execution_count": 17,
   "id": "3f016190",
   "metadata": {},
   "outputs": [],
   "source": [
    "import random\n",
    "def rand_divis_3():\n",
    "    num = random.randint(0,100)\n",
    "    print(num)\n",
    "    if (num%3==0):\n",
    "        return True\n",
    "    else:\n",
    "        return False"
   ]
  },
  {
   "cell_type": "code",
   "execution_count": 18,
   "id": "00973c87",
   "metadata": {},
   "outputs": [
    {
     "name": "stdout",
     "output_type": "stream",
     "text": [
      "32\n"
     ]
    },
    {
     "data": {
      "text/plain": [
       "False"
      ]
     },
     "execution_count": 18,
     "metadata": {},
     "output_type": "execute_result"
    }
   ],
   "source": [
    "rand_divis_3()"
   ]
  },
  {
   "cell_type": "markdown",
   "id": "a09cf6c8",
   "metadata": {},
   "source": [
    "### 4"
   ]
  },
  {
   "cell_type": "code",
   "execution_count": 15,
   "id": "0fa10e2e",
   "metadata": {},
   "outputs": [],
   "source": [
    "def check_tidak_sama(a, b):\n",
    "    if (a, b):\n",
    "        return True\n",
    "    else: \n",
    "        return False"
   ]
  },
  {
   "cell_type": "code",
   "execution_count": 16,
   "id": "4c91eea6",
   "metadata": {},
   "outputs": [
    {
     "name": "stdout",
     "output_type": "stream",
     "text": [
      "A dan B tidak sama\n"
     ]
    }
   ],
   "source": [
    "a = 4\n",
    "b = 19\n",
    "\n",
    "if (check_tidak_sama(a, b)):\n",
    "    print(\"A dan B tidak sama\")\n",
    "else:\n",
    "    print(\"A dan B sama\")"
   ]
  },
  {
   "cell_type": "markdown",
   "id": "d382de4e",
   "metadata": {},
   "source": [
    "### 5"
   ]
  },
  {
   "cell_type": "code",
   "execution_count": 11,
   "id": "24a2a3c4",
   "metadata": {},
   "outputs": [
    {
     "name": "stdout",
     "output_type": "stream",
     "text": [
      "Enter your name: Arif\n",
      "\n"
     ]
    }
   ],
   "source": [
    "def ask_name():\n",
    "    name = input(\"Enter your name: \")\n",
    "    \n",
    "ask_name()\n",
    "print()"
   ]
  }
 ],
 "metadata": {
  "kernelspec": {
   "display_name": "Python 3 (ipykernel)",
   "language": "python",
   "name": "python3"
  },
  "language_info": {
   "codemirror_mode": {
    "name": "ipython",
    "version": 3
   },
   "file_extension": ".py",
   "mimetype": "text/x-python",
   "name": "python",
   "nbconvert_exporter": "python",
   "pygments_lexer": "ipython3",
   "version": "3.9.7"
  }
 },
 "nbformat": 4,
 "nbformat_minor": 5
}
