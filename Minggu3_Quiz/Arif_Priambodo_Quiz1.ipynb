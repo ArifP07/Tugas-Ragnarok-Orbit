{
 "cells": [
  {
   "cell_type": "markdown",
   "id": "adfa195b",
   "metadata": {},
   "source": [
    "### Python OOP"
   ]
  },
  {
   "cell_type": "markdown",
   "id": "f87e9a0e",
   "metadata": {},
   "source": [
    "### 1. OOP adalah paradigma pemrograman yang mempresentasikan objek dalam bentuk kode program. "
   ]
  },
  {
   "cell_type": "code",
   "execution_count": null,
   "id": "ce3f5c20",
   "metadata": {},
   "outputs": [],
   "source": []
  },
  {
   "cell_type": "code",
   "execution_count": null,
   "id": "5e8730db",
   "metadata": {},
   "outputs": [],
   "source": []
  },
  {
   "cell_type": "code",
   "execution_count": null,
   "id": "aed7872b",
   "metadata": {},
   "outputs": [],
   "source": []
  },
  {
   "cell_type": "code",
   "execution_count": null,
   "id": "49224461",
   "metadata": {},
   "outputs": [],
   "source": []
  },
  {
   "cell_type": "code",
   "execution_count": null,
   "id": "8ce0da39",
   "metadata": {},
   "outputs": [],
   "source": []
  },
  {
   "cell_type": "markdown",
   "id": "e3df81bf",
   "metadata": {},
   "source": [
    "### 2. Python custom modules adalah file yang digunakan berekstensi .py menggunakan keyword import. Python built-in modules adalah memiliki banyak fungsi bawaan, banyak fungsi tersedia sebagai bagian dari perpustakaan yang dibundel dengan distribusi python."
   ]
  },
  {
   "cell_type": "markdown",
   "id": "a1eee21a",
   "metadata": {},
   "source": [
    "### 3. "
   ]
  },
  {
   "cell_type": "code",
   "execution_count": 3,
   "id": "bb1d8434",
   "metadata": {},
   "outputs": [],
   "source": [
    "import numpy as np"
   ]
  },
  {
   "cell_type": "code",
   "execution_count": 4,
   "id": "9c6291de",
   "metadata": {},
   "outputs": [],
   "source": [
    "import math"
   ]
  },
  {
   "cell_type": "code",
   "execution_count": 5,
   "id": "9aaaf16d",
   "metadata": {},
   "outputs": [
    {
     "data": {
      "text/plain": [
       "28.145095132914648"
      ]
     },
     "execution_count": 5,
     "metadata": {},
     "output_type": "execute_result"
    }
   ],
   "source": [
    "math.sqrt(175)+(4*math.sqrt(7))+ 1/3 + math.log(81,3)"
   ]
  },
  {
   "cell_type": "markdown",
   "id": "156b3c25",
   "metadata": {},
   "source": [
    "### 4. Custom exception handling adalah cara menangani exception agar kode dapat berjalan lancar tanpa ada kendala."
   ]
  },
  {
   "cell_type": "code",
   "execution_count": null,
   "id": "67467ed7",
   "metadata": {},
   "outputs": [],
   "source": []
  },
  {
   "cell_type": "markdown",
   "id": "7500364d",
   "metadata": {},
   "source": [
    "### AI"
   ]
  },
  {
   "cell_type": "markdown",
   "id": "389d773b",
   "metadata": {},
   "source": [
    "### 1. Data terstruktur adalah sangat terorganisir dan mudah dicari dengan kueri atau algoritma, dapat dengan cepat dikonsolidasikan menjadi fakta. Contohnya CSV, Excel, tabel database relasional yang berisi kolom atau field seperti id, nama, tanggal lahir, alamat. Sedangkan data tidak tersetruktur adalah tidak ada struktur yang dapat diidentifikasi, tidak ada model data tetap, tidak terorganisir, lebih banyak memerlukan ruang penyimpanan. Contohnya gambar, suara, video. Sumber data ada Sensor, Survai dan Observasi, Transaksi, Internet, Media sosial."
   ]
  },
  {
   "cell_type": "markdown",
   "id": "5278bc1d",
   "metadata": {},
   "source": [
    "### 2. Perbedaan AI yaitu mesin/komputer yang diprogram dengan kecerdasan untuk bisa menirukan perilaku manusia, Machine Learning yaitu cabang dari AI yang berfokus pada penggunaan data dan algoritma untuk meniru cara manusia belajar secara bertahap meningkatkan akurasinya (ML belajar dari data sehingga dapat memberikan output yang akurat, namun masih membutuhkan manusia dalam pemrosesan data sebelum diberikan ke model ML untuk dipelajari), Deep Learning yaitu cabang dari ML yang berkaitan dengan algoritma yang terinspirasi oleh struktur dan fungsi otak disebut artificial neural network/ jaringan saraf tiruan (DL mirip seperti ML namun perbedaannya DL tidak perlu dilakukan pemrosesan data)."
   ]
  },
  {
   "cell_type": "markdown",
   "id": "0fb3f37f",
   "metadata": {},
   "source": [
    "### 3. Machine Learning cara kerjanya menginputkan Data + Jawaban menghasilkan Aturan. sedangkan Traditional Programming cara kerjanya menginputkan Data + Aturan menghasilkan Jawaban. "
   ]
  },
  {
   "cell_type": "markdown",
   "id": "bb3344b1",
   "metadata": {},
   "source": [
    "### 4. a) Corona Likelihood Metric (CLM) untuk uji risiko gejala korona.\n",
    "###       b) Face detection untuk mendeteksi dan mengenali wajah.\n",
    "###       c) Search autosuggest (Google, YouTube, dll) untuk rekomendasi pencarian berdasarkan riwayat yang pernah dicari dan dari konten yang disukai."
   ]
  },
  {
   "cell_type": "markdown",
   "id": "fec081fa",
   "metadata": {},
   "source": [
    "### Maths for AI"
   ]
  },
  {
   "cell_type": "markdown",
   "id": "8653506f",
   "metadata": {},
   "source": [
    "### 1. Karena matematika dalam AI itu sangat berkaitan erat, dengan matematika makan sistem ai yang akan dibuat akan menghasilkan perhitungan yang tepat dan dalam perhitungan tersebut akan menghasilkan sistem ai yang sempurna."
   ]
  },
  {
   "cell_type": "markdown",
   "id": "17dfdf6f",
   "metadata": {},
   "source": [
    "### 2. Vektor yaitu  besaran yang memiliki nilai dan arah arah Dalam ilmu data, vektor adalah kumpulan nilai dari variabel tertentu. Contohnya : kecepatan, percepatan, perpindahan. Skalar yaitu konstanta atau besaran yang hanya memiliki nilai. Contohnya : Luas, volume, panjang, tekanan. "
   ]
  },
  {
   "cell_type": "markdown",
   "id": "da0e5533",
   "metadata": {},
   "source": [
    "### 3. Euclidean Distance adalah metrika yang paling sering digunakan untuk menghitung kesamaan dua vektor. Rumus euclidean Distance adalah akar dari kuadrat perbedaan 2 vektor (root of square differences between 2 vectors). Jarak Euclidean Distance adalah jarak antar titik dalam garis lurus. Manhattan distance disebut juga sebagai “city block distance” merupakan jumlah jarak dari semua attribute. Untuk dua data titik x dan y dalam d-ruang dimensi. "
   ]
  },
  {
   "cell_type": "markdown",
   "id": "2fbae33c",
   "metadata": {},
   "source": [
    "### 4. Fungsi Matrix dalam AI yaitu untuk pengelompokan data, dan pemetaan suatu data berdasarkan klasifikasi masing-masing. "
   ]
  },
  {
   "cell_type": "markdown",
   "id": "872ae17e",
   "metadata": {},
   "source": [
    "### Machine Learning"
   ]
  },
  {
   "cell_type": "markdown",
   "id": "d2ee8d4e",
   "metadata": {},
   "source": [
    "### 1. supervised yaitu dataset yang memiliki label/tag yang ditambahkan ke dalam model ML, dataset dapat melatih model untuk kasifikasi atau regresi output secara akurat. Contohnya gambar kucing diberi label kucing dan gambar anjing diberi label anjing model ML dapat mengklasifikasi kategori berupa \"anjing\",\"kucing\" dan regresi berupa berat badan tinggi badan. Sedangkan unsupervised learning yaitu dataset tidak memiliki label sehingga ML akan menganalisis dan mengcluster dataset, algoritmanya menemukan pola-pola pada data tanpa bantuan manusia, model ML pada unsupervised learning melakukan 2 tugas yaitu clustering (hubungan antara fitur individu) dan dimensional reduction (metode mengurangi fitur). Contohnya diberikan gambar anjing tanpa label kedalam model ML, model mengidentifikasi gambar dan menganalisis fitur-fitur dalam gambar anjing tersebut seperti 2 telinga, 2 mata, 4 kaki. kemudian diberikan lagi gambar anjing kedua, model ML belum melihat gambar ini namun telah mengenal banyak fitur yang sama seperti gambar pertama, model ML dapat mengidentifikasi gambar kedua sebagai anjing."
   ]
  },
  {
   "cell_type": "markdown",
   "id": "e01f4c5f",
   "metadata": {},
   "source": [
    "### 2. AI project cycle ada Tentukan tujuan projek yaitu mengidentifikasi tujuan agar jelas apa yang akan dilakukan dalam projek sehingga dapat menghasilkan suatu nilai. Data dikumpulkan dan diproses yaitu agar dapat digunakan di model ML. Membuat algoritma dan menentukan model yaitu untuk mendapatkan hasil dari data dengan ML, tentukan target variabel, faktor yang ingin dipahami lebih dalam. Menguji model yaitu model diuji dengan data baru yang belum digunakan sebelumnya dan melihat hasil terbaik. Deployment yaitu model ML di implementasikan agar dapat terus digunakan dan meningkatkan model tersebut. "
   ]
  },
  {
   "cell_type": "markdown",
   "id": "ff05b9fb",
   "metadata": {},
   "source": [
    "### 3. Regression yaitu model memahami relasi antara variabel dependen dan independen dan kemudian memberikan prdiksi nilai Numerik berdasarkan data. Sedangkan Clustering yaitu model mengelompokan data tanpa label berdasarkan kemiripan atau perbedaan yang ada."
   ]
  },
  {
   "cell_type": "markdown",
   "id": "0cf78775",
   "metadata": {},
   "source": [
    "### 4. Artificial Neural Networkyaitu teknologi AI yang meniru dan terinspirasi dari cara kerja Neuron pada manusia serta cikal bakal dari DL. Fungsinya untuk meniru cara kerja otak manusia dengan harapan dapat dibangun sebuah mesin yang berperilaku seperti manusia."
   ]
  }
 ],
 "metadata": {
  "kernelspec": {
   "display_name": "Python 3 (ipykernel)",
   "language": "python",
   "name": "python3"
  },
  "language_info": {
   "codemirror_mode": {
    "name": "ipython",
    "version": 3
   },
   "file_extension": ".py",
   "mimetype": "text/x-python",
   "name": "python",
   "nbconvert_exporter": "python",
   "pygments_lexer": "ipython3",
   "version": "3.9.7"
  }
 },
 "nbformat": 4,
 "nbformat_minor": 5
}
