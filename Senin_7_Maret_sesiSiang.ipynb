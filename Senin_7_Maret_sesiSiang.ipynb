{
 "cells": [
  {
   "cell_type": "code",
   "execution_count": 1,
   "id": "7a88c560",
   "metadata": {},
   "outputs": [],
   "source": [
    "import matematika_dasar as md"
   ]
  },
  {
   "cell_type": "code",
   "execution_count": 2,
   "id": "7492bc56",
   "metadata": {},
   "outputs": [
    {
     "name": "stdout",
     "output_type": "stream",
     "text": [
      "Arif Priambodo\n"
     ]
    }
   ],
   "source": [
    "md.nama()"
   ]
  },
  {
   "cell_type": "code",
   "execution_count": 2,
   "id": "8f042713",
   "metadata": {},
   "outputs": [
    {
     "data": {
      "text/plain": [
       "10"
      ]
     },
     "execution_count": 2,
     "metadata": {},
     "output_type": "execute_result"
    }
   ],
   "source": [
    "md.pertambahan(8,2)"
   ]
  },
  {
   "cell_type": "code",
   "execution_count": 3,
   "id": "10339767",
   "metadata": {},
   "outputs": [
    {
     "data": {
      "text/plain": [
       "15"
      ]
     },
     "execution_count": 3,
     "metadata": {},
     "output_type": "execute_result"
    }
   ],
   "source": [
    "md.pengurangan(20,5)"
   ]
  },
  {
   "cell_type": "code",
   "execution_count": 4,
   "id": "2a42ee37",
   "metadata": {},
   "outputs": [
    {
     "data": {
      "text/plain": [
       "8"
      ]
     },
     "execution_count": 4,
     "metadata": {},
     "output_type": "execute_result"
    }
   ],
   "source": [
    "md.perkalian(4,2)"
   ]
  },
  {
   "cell_type": "code",
   "execution_count": 5,
   "id": "8fe122e7",
   "metadata": {},
   "outputs": [
    {
     "data": {
      "text/plain": [
       "4.0"
      ]
     },
     "execution_count": 5,
     "metadata": {},
     "output_type": "execute_result"
    }
   ],
   "source": [
    "md.pembagian(8,2)"
   ]
  },
  {
   "cell_type": "code",
   "execution_count": null,
   "id": "efe6f83c",
   "metadata": {},
   "outputs": [],
   "source": []
  }
 ],
 "metadata": {
  "kernelspec": {
   "display_name": "Python 3 (ipykernel)",
   "language": "python",
   "name": "python3"
  },
  "language_info": {
   "codemirror_mode": {
    "name": "ipython",
    "version": 3
   },
   "file_extension": ".py",
   "mimetype": "text/x-python",
   "name": "python",
   "nbconvert_exporter": "python",
   "pygments_lexer": "ipython3",
   "version": "3.9.7"
  }
 },
 "nbformat": 4,
 "nbformat_minor": 5
}
